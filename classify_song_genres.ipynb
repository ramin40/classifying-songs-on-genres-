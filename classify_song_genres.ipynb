{
  "nbformat": 4,
  "nbformat_minor": 0,
  "metadata": {
    "colab": {
      "name": "classify song genres ",
      "provenance": [],
      "collapsed_sections": [],
      "mount_file_id": "1GJlID8cU6XEAHdFWRXhnPI4ey8ls5sDp",
      "authorship_tag": "ABX9TyNHVETEQuFsBkfwyS0iLaQC",
      "include_colab_link": true
    },
    "kernelspec": {
      "name": "python3",
      "display_name": "Python 3"
    },
    "language_info": {
      "name": "python"
    }
  },
  "cells": [
    {
      "cell_type": "markdown",
      "metadata": {
        "id": "view-in-github",
        "colab_type": "text"
      },
      "source": [
        "<a href=\"https://colab.research.google.com/github/ramin40/classifying-songs-on-genres-/blob/main/classify_song_genres.ipynb\" target=\"_parent\"><img src=\"https://colab.research.google.com/assets/colab-badge.svg\" alt=\"Open In Colab\"/></a>"
      ]
    },
    {
      "cell_type": "markdown",
      "metadata": {
        "id": "12kfCJqEZmkS"
      },
      "source": [
        "importing necessray libraries"
      ]
    },
    {
      "cell_type": "code",
      "metadata": {
        "id": "Po5MOTKIZMhB"
      },
      "source": [
        "import numpy as np\n",
        "import pandas as pd\n",
        "import matplotlib.pyplot as plt\n"
      ],
      "execution_count": null,
      "outputs": []
    },
    {
      "cell_type": "markdown",
      "metadata": {
        "id": "3FxzBsOdZ7K3"
      },
      "source": [
        "importing and reading data"
      ]
    },
    {
      "cell_type": "code",
      "metadata": {
        "colab": {
          "base_uri": "https://localhost:8080/",
          "height": 198
        },
        "id": "Tj7jR1p5Z2PX",
        "outputId": "3a2656e2-4a44-4515-d855-148a6b098d84"
      },
      "source": [
        "tracks=pd.read_csv('/content/drive/MyDrive/datasets /fma-rock-vs-hiphop.csv')\n",
        "enchonest=pd.read_json('/content/drive/MyDrive/datasets /echonest-metrics.json')\n",
        "echo_tracks=enchonest.merge(tracks[['track_id','genre_top']],on='track_id')\n",
        "echo_tracks.head()"
      ],
      "execution_count": null,
      "outputs": [
        {
          "output_type": "execute_result",
          "data": {
            "text/html": [
              "<div>\n",
              "<style scoped>\n",
              "    .dataframe tbody tr th:only-of-type {\n",
              "        vertical-align: middle;\n",
              "    }\n",
              "\n",
              "    .dataframe tbody tr th {\n",
              "        vertical-align: top;\n",
              "    }\n",
              "\n",
              "    .dataframe thead th {\n",
              "        text-align: right;\n",
              "    }\n",
              "</style>\n",
              "<table border=\"1\" class=\"dataframe\">\n",
              "  <thead>\n",
              "    <tr style=\"text-align: right;\">\n",
              "      <th></th>\n",
              "      <th>track_id</th>\n",
              "      <th>acousticness</th>\n",
              "      <th>danceability</th>\n",
              "      <th>energy</th>\n",
              "      <th>instrumentalness</th>\n",
              "      <th>liveness</th>\n",
              "      <th>speechiness</th>\n",
              "      <th>tempo</th>\n",
              "      <th>valence</th>\n",
              "      <th>genre_top</th>\n",
              "    </tr>\n",
              "  </thead>\n",
              "  <tbody>\n",
              "    <tr>\n",
              "      <th>0</th>\n",
              "      <td>2</td>\n",
              "      <td>0.416675</td>\n",
              "      <td>0.675894</td>\n",
              "      <td>0.634476</td>\n",
              "      <td>0.010628</td>\n",
              "      <td>0.177647</td>\n",
              "      <td>0.159310</td>\n",
              "      <td>165.922</td>\n",
              "      <td>0.576661</td>\n",
              "      <td>Hip-Hop</td>\n",
              "    </tr>\n",
              "    <tr>\n",
              "      <th>1</th>\n",
              "      <td>3</td>\n",
              "      <td>0.374408</td>\n",
              "      <td>0.528643</td>\n",
              "      <td>0.817461</td>\n",
              "      <td>0.001851</td>\n",
              "      <td>0.105880</td>\n",
              "      <td>0.461818</td>\n",
              "      <td>126.957</td>\n",
              "      <td>0.269240</td>\n",
              "      <td>Hip-Hop</td>\n",
              "    </tr>\n",
              "    <tr>\n",
              "      <th>2</th>\n",
              "      <td>5</td>\n",
              "      <td>0.043567</td>\n",
              "      <td>0.745566</td>\n",
              "      <td>0.701470</td>\n",
              "      <td>0.000697</td>\n",
              "      <td>0.373143</td>\n",
              "      <td>0.124595</td>\n",
              "      <td>100.260</td>\n",
              "      <td>0.621661</td>\n",
              "      <td>Hip-Hop</td>\n",
              "    </tr>\n",
              "    <tr>\n",
              "      <th>3</th>\n",
              "      <td>134</td>\n",
              "      <td>0.452217</td>\n",
              "      <td>0.513238</td>\n",
              "      <td>0.560410</td>\n",
              "      <td>0.019443</td>\n",
              "      <td>0.096567</td>\n",
              "      <td>0.525519</td>\n",
              "      <td>114.290</td>\n",
              "      <td>0.894072</td>\n",
              "      <td>Hip-Hop</td>\n",
              "    </tr>\n",
              "    <tr>\n",
              "      <th>4</th>\n",
              "      <td>153</td>\n",
              "      <td>0.988306</td>\n",
              "      <td>0.255661</td>\n",
              "      <td>0.979774</td>\n",
              "      <td>0.973006</td>\n",
              "      <td>0.121342</td>\n",
              "      <td>0.051740</td>\n",
              "      <td>90.241</td>\n",
              "      <td>0.034018</td>\n",
              "      <td>Rock</td>\n",
              "    </tr>\n",
              "  </tbody>\n",
              "</table>\n",
              "</div>"
            ],
            "text/plain": [
              "   track_id  acousticness  danceability  ...    tempo   valence  genre_top\n",
              "0         2      0.416675      0.675894  ...  165.922  0.576661    Hip-Hop\n",
              "1         3      0.374408      0.528643  ...  126.957  0.269240    Hip-Hop\n",
              "2         5      0.043567      0.745566  ...  100.260  0.621661    Hip-Hop\n",
              "3       134      0.452217      0.513238  ...  114.290  0.894072    Hip-Hop\n",
              "4       153      0.988306      0.255661  ...   90.241  0.034018       Rock\n",
              "\n",
              "[5 rows x 10 columns]"
            ]
          },
          "metadata": {
            "tags": []
          },
          "execution_count": 3
        }
      ]
    },
    {
      "cell_type": "markdown",
      "metadata": {
        "id": "bGRYjxHIbiRz"
      },
      "source": [
        "incpecting data"
      ]
    },
    {
      "cell_type": "code",
      "metadata": {
        "colab": {
          "base_uri": "https://localhost:8080/"
        },
        "id": "lo7weF67Z1Lt",
        "outputId": "5c6c159b-1061-40be-9ca9-ccdbcc1442a6"
      },
      "source": [
        "corr_matrix=echo_tracks.corr().abs()\n",
        "corr_matrix.style.background_gradient()\n",
        "mask=np.triu(np.ones_like(corr_matrix,dtype=bool))\n",
        "masked_matrix=corr_matrix.mask(mask)\n",
        "high_correlated=[ c for c in echo_tracks.columns[:-1]if any(masked_matrix[c]>0.5)]\n",
        "print(high_correlated)"
      ],
      "execution_count": null,
      "outputs": [
        {
          "output_type": "stream",
          "text": [
            "[]\n"
          ],
          "name": "stdout"
        }
      ]
    },
    {
      "cell_type": "markdown",
      "metadata": {
        "id": "BqT7yGuWkG9S"
      },
      "source": [
        "scaling data and prepering for dimentionary reduction."
      ]
    },
    {
      "cell_type": "code",
      "metadata": {
        "id": "oMHEaNYlkGX7"
      },
      "source": [
        "features=echo_tracks.drop(['track_id','genre_top'],axis=1)\n",
        "labels=echo_tracks['genre_top']\n",
        "from sklearn.preprocessing import StandardScaler\n",
        "ss=StandardScaler()\n",
        "scaled_features=ss.fit_transform(features)"
      ],
      "execution_count": null,
      "outputs": []
    },
    {
      "cell_type": "markdown",
      "metadata": {
        "id": "LyqTe95xlB6n"
      },
      "source": [
        "implementing PCA"
      ]
    },
    {
      "cell_type": "code",
      "metadata": {
        "colab": {
          "base_uri": "https://localhost:8080/",
          "height": 545
        },
        "id": "MMti5pDGh-jj",
        "outputId": "0517553b-9321-438f-da41-addba7b4bf97"
      },
      "source": [
        "from sklearn.decomposition import PCA\n",
        "pca=PCA()\n",
        "pca.fit(scaled_features)\n",
        "varianc=pca.explained_variance_ratio_\n",
        "n_components=pca.n_components_\n",
        "plt.bar(range(n_components),varianc)\n",
        "plt.title('explained_variance_ration')\n",
        "plt.show()\n",
        "cum_variance=np.cumsum(varianc)\n",
        "plt.bar(range(n_components),cum_variance)\n",
        "plt.hlines(0.85,color='r',linestyles='dashed',xmin=0,xmax=7)\n",
        "plt.title('cumulative sum of explained variace')\n",
        "plt.show()\n",
        "#whiw respect to these plots n_components=6\n",
        "pca=PCA(n_components=6,random_state=123)\n",
        "pca_features=pca.fit_transform(scaled_features)"
      ],
      "execution_count": null,
      "outputs": [
        {
          "output_type": "display_data",
          "data": {
            "image/png": "[encoded data removed]",
            "text/plain": [
              "<Figure size 432x288 with 1 Axes>"
            ]
          },
          "metadata": {
            "tags": [],
            "needs_background": "light"
          }
        },
        {
          "output_type": "display_data",
          "data": {
            "image/png": "[encoded data removed]",
            "text/plain": [
              "<Figure size 432x288 with 1 Axes>"
            ]
          },
          "metadata": {
            "tags": [],
            "needs_background": "light"
          }
        }
      ]
    },
    {
      "cell_type": "markdown",
      "metadata": {
        "id": "qB9IjYG7q2Ga"
      },
      "source": [
        "encoding labels"
      ]
    },
    {
      "cell_type": "code",
      "metadata": {
        "id": "gltBuPxCq21W"
      },
      "source": [
        "from sklearn.preprocessing import LabelEncoder\n",
        "le=LabelEncoder()\n",
        "encoded_labels=le.fit_transform(labels).reshape(-1,1)\n",
        "label_dict=dict({'Rock':0,'Hip-Hop':1})"
      ],
      "execution_count": null,
      "outputs": []
    },
    {
      "cell_type": "markdown",
      "metadata": {
        "id": "FF1fHt0EoxBL"
      },
      "source": [
        "splitting data and training a decision tree and logestic regression models and compare these together"
      ]
    },
    {
      "cell_type": "code",
      "metadata": {
        "colab": {
          "base_uri": "https://localhost:8080/"
        },
        "id": "Wi54jA5RlYpc",
        "outputId": "d748c6c0-459c-4fe1-a802-c8f4d5f0e099"
      },
      "source": [
        "from sklearn.model_selection import train_test_split\n",
        "from sklearn.tree import DecisionTreeClassifier\n",
        "xtrain,xtest,ytrain,ytest=train_test_split(pca_features,encoded_labels,test_size=0.3,random_state=123,\n",
        "                                           stratify=encoded_labels)\n",
        "tree=DecisionTreeClassifier()\n",
        "tree.fit(xtrain,ytrain)\n",
        "from sklearn.linear_model import LogisticRegression\n",
        "logreg=LogisticRegression()\n",
        "logreg.fit(xtrain,ytrain)\n",
        "from sklearn.metrics import classification_report\n",
        "print(classification_report(ytest,logreg.predict(xtest)))\n",
        "print(classification_report(ytest,tree.predict(xtest)))"
      ],
      "execution_count": null,
      "outputs": [
        {
          "output_type": "stream",
          "text": [
            "              precision    recall  f1-score   support\n",
            "\n",
            "           0       0.71      0.54      0.62       273\n",
            "           1       0.90      0.95      0.92      1168\n",
            "\n",
            "    accuracy                           0.87      1441\n",
            "   macro avg       0.81      0.75      0.77      1441\n",
            "weighted avg       0.86      0.87      0.86      1441\n",
            "\n",
            "              precision    recall  f1-score   support\n",
            "\n",
            "           0       0.62      0.60      0.61       273\n",
            "           1       0.91      0.91      0.91      1168\n",
            "\n",
            "    accuracy                           0.85      1441\n",
            "   macro avg       0.76      0.76      0.76      1441\n",
            "weighted avg       0.85      0.85      0.85      1441\n",
            "\n"
          ],
          "name": "stdout"
        },
        {
          "output_type": "stream",
          "text": [
            "/usr/local/lib/python3.7/dist-packages/sklearn/utils/validation.py:760: DataConversionWarning: A column-vector y was passed when a 1d array was expected. Please change the shape of y to (n_samples, ), for example using ravel().\n",
            "  y = column_or_1d(y, warn=True)\n"
          ],
          "name": "stderr"
        }
      ]
    },
    {
      "cell_type": "markdown",
      "metadata": {
        "id": "iQ3O9ZEFufUo"
      },
      "source": [
        "unbias classes"
      ]
    },
    {
      "cell_type": "code",
      "metadata": {
        "colab": {
          "base_uri": "https://localhost:8080/"
        },
        "id": "Y2pC8xnymCFe",
        "outputId": "f96538be-c765-4894-85fe-b03a3824181f"
      },
      "source": [
        "def unbias_class(labels_column,data,label_column_name):\n",
        "  unbias_class=pd.DataFrame()\n",
        "  global dict_class\n",
        "  dict_class={}\n",
        "  for i,j in enumerate(labels_column.value_counts().index):\n",
        "    dict_class[j]=labels_column.value_counts()[i]\n",
        "  if min(dict_class.values())<= 1.5*max(dict_class.values()):\n",
        "    print('data frame have bias classes')\n",
        "    print('unbiasing . . .')\n",
        "    for k,v in dict_class.items():\n",
        "      if v > 1.3*min(dict_class.values()):\n",
        "        data.loc[data[label_column_name]==k]= data.loc[data[label_column_name]==k].sample(min(dict_class.values()),random_state=123)\n",
        "        \n",
        "  else:\n",
        "    print('data frame classes are unbias')\n",
        "  data=data.dropna()\n",
        "  return data\n",
        "unbias_data=unbias_class(labels,echo_tracks,'genre_top')"
      ],
      "execution_count": null,
      "outputs": [
        {
          "output_type": "stream",
          "text": [
            "data frame have bias classes\n",
            "unbiasing . . .\n"
          ],
          "name": "stdout"
        }
      ]
    },
    {
      "cell_type": "markdown",
      "metadata": {
        "id": "TAk7KRCH9w9E"
      },
      "source": [
        "trainig models with biased classes"
      ]
    },
    {
      "cell_type": "code",
      "metadata": {
        "colab": {
          "base_uri": "https://localhost:8080/"
        },
        "id": "iTajtlF6sEzH",
        "outputId": "cad38a5e-4885-4ee8-d41b-40f1246a3116"
      },
      "source": [
        "features=unbias_data.drop(['track_id','genre_top'],axis=1)\n",
        "labels=unbias_data['genre_top']\n",
        "encoded_labels=le.fit_transform(labels)\n",
        "scaled_features=ss.fit_transform(features)\n",
        "pca_features=pca.fit_transform(scaled_features)\n",
        "xtrain,xtest,ytrain,ytest=train_test_split(pca_features,encoded_labels,random_state=12\n",
        "                                      ,test_size=0.2)\n",
        "tree=DecisionTreeClassifier()\n",
        "tree.fit(xtrain,ytrain)\n",
        "from sklearn.linear_model import LogisticRegression\n",
        "logreg=LogisticRegression()\n",
        "logreg.fit(xtrain,ytrain)\n",
        "from sklearn.metrics import classification_report\n",
        "print(classification_report(ytest,logreg.predict(xtest)))\n",
        "print(classification_report(ytest,tree.predict(xtest)))"
      ],
      "execution_count": null,
      "outputs": [
        {
          "output_type": "stream",
          "text": [
            "              precision    recall  f1-score   support\n",
            "\n",
            "           0       0.81      0.83      0.82       183\n",
            "           1       0.82      0.81      0.81       181\n",
            "\n",
            "    accuracy                           0.82       364\n",
            "   macro avg       0.82      0.82      0.82       364\n",
            "weighted avg       0.82      0.82      0.82       364\n",
            "\n",
            "              precision    recall  f1-score   support\n",
            "\n",
            "           0       0.80      0.77      0.78       183\n",
            "           1       0.77      0.80      0.79       181\n",
            "\n",
            "    accuracy                           0.78       364\n",
            "   macro avg       0.78      0.78      0.78       364\n",
            "weighted avg       0.78      0.78      0.78       364\n",
            "\n"
          ],
          "name": "stdout"
        }
      ]
    },
    {
      "cell_type": "markdown",
      "metadata": {
        "id": "lRruWE0DBCJp"
      },
      "source": [
        "evaluating model"
      ]
    },
    {
      "cell_type": "code",
      "metadata": {
        "id": "qO6R-2fsx0sp",
        "colab": {
          "base_uri": "https://localhost:8080/"
        },
        "outputId": "8971899d-aaee-44ef-d4e3-b65b50b1e304"
      },
      "source": [
        "from sklearn.model_selection import cross_val_score\n",
        "cross_val_score(tree,xtest,ytest,cv=10,scoring='accuracy').mean()"
      ],
      "execution_count": null,
      "outputs": [
        {
          "output_type": "execute_result",
          "data": {
            "text/plain": [
              "0.744069069069069"
            ]
          },
          "metadata": {
            "tags": []
          },
          "execution_count": 48
        }
      ]
    },
    {
      "cell_type": "code",
      "metadata": {
        "id": "CmYnvrrgBWFx"
      },
      "source": [
        ""
      ],
      "execution_count": null,
      "outputs": []
    }
  ]
}